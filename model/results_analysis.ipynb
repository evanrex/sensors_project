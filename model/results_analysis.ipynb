{
 "cells": [
  {
   "attachments": {},
   "cell_type": "markdown",
   "metadata": {},
   "source": [
    "# Imports"
   ]
  },
  {
   "cell_type": "code",
   "execution_count": 1,
   "metadata": {},
   "outputs": [],
   "source": [
    "from matplotlib import pyplot as plt\n",
    "import pickle\n",
    "import os\n",
    "import pandas as pd\n",
    "import numpy as np\n",
    "import sklearn\n",
    "import statistics\n",
    "from constants import SUPPORTED_ARCHITECTURES\n",
    "from constants import ARCHITECTURE_KEY\n"
   ]
  },
  {
   "cell_type": "code",
   "execution_count": null,
   "metadata": {},
   "outputs": [],
   "source": [
    "fsize = 15\n",
    "tsize = 18\n",
    "tdir = 'in'\n",
    "major = 5.0\n",
    "minor = 3.0\n",
    "lwidth = 0.8\n",
    "lhandle = 2.0\n",
    "plt.style.use('default')\n",
    "plt.rcParams['text.usetex'] = True\n",
    "plt.rcParams['font.size'] = fsize\n",
    "plt.rcParams['legend.fontsize'] = tsize\n",
    "plt.rcParams['xtick.direction'] = tdir\n",
    "plt.rcParams['ytick.direction'] = tdir\n",
    "plt.rcParams['xtick.major.size'] = major\n",
    "plt.rcParams['xtick.minor.size'] = minor\n",
    "plt.rcParams['ytick.major.size'] = 5.0\n",
    "plt.rcParams['ytick.minor.size'] = 3.0\n",
    "plt.rcParams['axes.linewidth'] = lwidth\n",
    "plt.rcParams['legend.handlelength'] = lhandle"
   ]
  },
  {
   "attachments": {},
   "cell_type": "markdown",
   "metadata": {},
   "source": [
    "# Utilities"
   ]
  },
  {
   "cell_type": "code",
   "execution_count": 28,
   "metadata": {},
   "outputs": [],
   "source": [
    "def is_saving_dir(directory):\n",
    "    directory = str(directory)\n",
    "    # directory = directory.split('/')[-1]\n",
    "    if \"saving_dir\" in directory:\n",
    "        return True\n",
    "    else: return False\n",
    "\n",
    "def get_experiment_id(saving_dir):\n",
    "    path = str(saving_dir)\n",
    "    directory = path.split('/')[-1]\n",
    "    last_char = directory[-1]\n",
    "    experiment_id = int(last_char)\n",
    "    return experiment_id\n",
    "\n",
    "def get_model(architecture, _id, EXPERIMENTS_PATH):\n",
    "    path = os.path.join(EXPERIMENTS_PATH, \"saving_dir\"+_id, architecture+\"_models.pickle\")\n",
    "    with open(path, 'rb') as pickle_file:\n",
    "        loaded_file = pickle.load(pickle_file)\n",
    "    return loaded_file\n",
    "\n",
    "def get_experiments(EXPERIMENTS_PATH):\n",
    "    rootdir = EXPERIMENTS_PATH\n",
    "    experiments = []\n",
    "\n",
    "    for subdir, dirs, files in os.walk(rootdir):\n",
    "        if is_saving_dir(subdir):\n",
    "            experiment = {}\n",
    "            experiment[\"id\"] = get_experiment_id(subdir)\n",
    "            for file in files:\n",
    "                path  = os.path.join(subdir, file)\n",
    "                with open(path, 'rb') as pickle_file:\n",
    "                    if file.endswith(\"evaluations.pickle\"):\n",
    "                        architecture_not_supported = True\n",
    "                        for architecture in SUPPORTED_ARCHITECTURES:\n",
    "                            if architecture in file:\n",
    "                                experiment[architecture]  = pickle.load(pickle_file)\n",
    "                                architecture_not_supported = False\n",
    "                        if architecture_not_supported:\n",
    "                            raise Exception(\"Architecture for file {} not supported\".format(file))\n",
    "\n",
    "            experiments.append(experiment)\n",
    "    return experiments\n",
    "\n",
    "def get_median_target_experiment(target, experiments, architecture):\n",
    "    target_experiments = [] \n",
    "    \n",
    "    for i in range(len(experiments)):\n",
    "        target_experiment = {\n",
    "            \"id\":experiments[i][\"id\"],\n",
    "            \"evaluations\":experiments[i][architecture][target][ARCHITECTURE_KEY[architecture]],\n",
    "            # \"evaluations\":experiments[i][\"evaluations\"][target][architecture],\n",
    "            # \"models\":experiments[i][\"models\"][target][architecture]\n",
    "            }\n",
    "\n",
    "        target_experiments.append(target_experiment)\n",
    "\n",
    "    sorted_target_experiments = sorted(target_experiments, key=lambda d: d['evaluations']['rmse']) \n",
    "    median_target_experiment = sorted_target_experiments[int(len(sorted_target_experiments)//2)]\n",
    "    return median_target_experiment\n",
    "\n",
    "def get_mean_rmse_dev(target,experiments,architecture):\n",
    "    rmses = []\n",
    "    rmse_sum = 0.0\n",
    "    for i in range(len(experiments)):\n",
    "        rmse = experiments[i][architecture][target][ARCHITECTURE_KEY[architecture]]['rmse']\n",
    "        rmses.append(rmse)\n",
    "        rmse_sum += rmse\n",
    "    std_dev = statistics.stdev(rmses)\n",
    "    rmse_avg = rmse_sum/len(experiments)\n",
    "    return rmse_avg, std_dev\n",
    "\n",
    "def filenameify(s):\n",
    "    return \"\".join(x for x in s if x.isalnum())\n",
    "\n",
    "def histogram(RESULTS_SAVING_PATH, target, errors):\n",
    "    \n",
    "    fig = plt.figure(figsize =(10, 7))\n",
    "    \n",
    "    counts, bins = np.histogram(np.abs(errors),bins=100)\n",
    "    plt.stairs(counts, bins)\n",
    "\n",
    "    plt.title(\"{} Error Histogram\".format(target))\n",
    "        \n",
    "    save_path = RESULTS_SAVING_PATH+'/'+filenameify(target)+'.png'\n",
    "    \n",
    "    plt.savefig(save_path, bbox_inches='tight')\n",
    "\n",
    "def histogram(RESULTS_SAVING_PATH, target, errors):\n",
    "    \n",
    "    fig = plt.figure(figsize =(10, 7))\n",
    "    \n",
    "    counts, bins = np.histogram(np.abs(errors),bins=100)\n",
    "    plt.stairs(counts, bins)\n",
    "\n",
    "    plt.title(\"{} Error Histogram\".format(target))\n",
    "        \n",
    "    save_path = RESULTS_SAVING_PATH+'/'+filenameify(target)+'.png'\n",
    "    \n",
    "    plt.savefig(save_path, bbox_inches='tight')"
   ]
  },
  {
   "attachments": {},
   "cell_type": "markdown",
   "metadata": {},
   "source": [
    "# Analysis"
   ]
  },
  {
   "cell_type": "code",
   "execution_count": 3,
   "metadata": {},
   "outputs": [],
   "source": [
    "root = \"c:/Users/evan_/Documents/GitHub/sensors_project/\"\n",
    "EXPERIMENTS_PATH = root + \"model/experiments/\"\n",
    "DATA_PATH = root + \"data/river_sensor_data.csv\"\n",
    "\n",
    "\n",
    "df = pd.read_csv(DATA_PATH)\n",
    "\n",
    "targets = df.columns.to_list()\n",
    "\n",
    "experiments = get_experiments(EXPERIMENTS_PATH)"
   ]
  },
  {
   "cell_type": "markdown",
   "metadata": {},
   "source": []
  },
  {
   "cell_type": "code",
   "execution_count": 41,
   "metadata": {},
   "outputs": [
    {
     "name": "stdout",
     "output_type": "stream",
     "text": [
      "The optimal hyperparameters found by the GridSearchCV module for the MLP architecture when predicting the NO3+NO2-N-Diss-Water (NITRATE + NITRITE NITROGEN) (mg/L) Result target are {'activation': 'relu', 'hidden_layer_sizes': 7}\n",
      "The optimal hyperparameters found by the GridSearchCV module for the RF architecture when predicting the NO3+NO2-N-Diss-Water (NITRATE + NITRITE NITROGEN) (mg/L) Result target are {'max_depth': 100, 'max_features': 'sqrt', 'n_estimators': 500}\n",
      "The optimal hyperparameters found by the GridSearchCV module for the KNN architecture when predicting the NO3+NO2-N-Diss-Water (NITRATE + NITRITE NITROGEN) (mg/L) Result target are {'n_neighbors': 3, 'p': 1, 'weights': 'distance'}\n",
      "The optimal hyperparameters found by the GridSearchCV module for the LASSO architecture when predicting the NO3+NO2-N-Diss-Water (NITRATE + NITRITE NITROGEN) (mg/L) Result target are {'alpha': 0.09}\n"
     ]
    }
   ],
   "source": [
    "nitrogen_target = 'NO3+NO2-N-Diss-Water (NITRATE + NITRITE NITROGEN) (mg/L) Result'\n",
    "\n",
    "\n",
    "for architecture in SUPPORTED_ARCHITECTURES:\n",
    "     median_target_experiment = get_median_target_experiment(nitrogen_target,experiments,architecture)\n",
    "     median_target_experiment_id = str(median_target_experiment['id'])\n",
    "     my_dict = get_model(architecture, median_target_experiment_id, EXPERIMENTS_PATH)[nitrogen_target]\n",
    "     best_params = my_dict[list(my_dict.keys())[0]].best_params_\n",
    "     \n",
    "\n",
    "     print(\"The optimal hyperparameters found by the GridSearchCV module for the {} architecture when predicting the {} target are {}\".format(architecture, nitrogen_target, best_params))\n"
   ]
  },
  {
   "cell_type": "code",
   "execution_count": 38,
   "metadata": {},
   "outputs": [
    {
     "data": {
      "text/plain": [
       "{'activation': 'relu', 'hidden_layer_sizes': 7}"
      ]
     },
     "execution_count": 38,
     "metadata": {},
     "output_type": "execute_result"
    }
   ],
   "source": []
  },
  {
   "cell_type": "code",
   "execution_count": 10,
   "metadata": {},
   "outputs": [
    {
     "name": "stdout",
     "output_type": "stream",
     "text": [
      "The MLP Architecture performs best when predicting F-Diss-Water (FLUORIDE) (mg/L) Result target, with a mean rmse of 0.3581744591835576\n",
      "The RF Architecture performs best when predicting F-Diss-Water (FLUORIDE) (mg/L) Result target, with a mean rmse of 0.3235156902864303\n",
      "The KNN Architecture performs best when predicting F-Diss-Water (FLUORIDE) (mg/L) Result target, with a mean rmse of 0.3235156902864303\n",
      "The LASSO Architecture performs best when predicting F-Diss-Water (FLUORIDE) (mg/L) Result target, with a mean rmse of 0.3235156902864303\n"
     ]
    }
   ],
   "source": [
    "best_rmse = None\n",
    "best_target=None\n",
    "\n",
    "for architecture in SUPPORTED_ARCHITECTURES:\n",
    "    for target in targets:\n",
    "        mean_rmse, std_dev = get_mean_rmse_dev(target,experiments,architecture)\n",
    "        # find out which target we perform best for\n",
    "        if best_rmse is None:\n",
    "            best_rmse = mean_rmse\n",
    "            best_target = target\n",
    "        elif best_rmse >= mean_rmse:\n",
    "            best_rmse = mean_rmse\n",
    "            best_target = target\n",
    "    print(\"The {} Architecture performs best when predicting {} target, with a mean rmse of {}\".format(architecture, best_target, best_rmse))\n"
   ]
  },
  {
   "cell_type": "code",
   "execution_count": 6,
   "metadata": {},
   "outputs": [],
   "source": [
    "nitrogen_target = 'NO3+NO2-N-Diss-Water (NITRATE + NITRITE NITROGEN) (mg/L) Result'"
   ]
  },
  {
   "cell_type": "code",
   "execution_count": 31,
   "metadata": {},
   "outputs": [
    {
     "name": "stdout",
     "output_type": "stream",
     "text": [
      "The MLP Architecture achieves a mean rmse of 5.722230286745741 with std dev 1.8392053760924199 for the NO3+NO2-N-Diss-Water (mg/L) target  \n",
      "The RF Architecture achieves a mean rmse of 4.4252472866065755 with std dev 1.4930975011199228 for the NO3+NO2-N-Diss-Water (mg/L) target  \n",
      "The KNN Architecture achieves a mean rmse of 3.643197826186036 with std dev 1.4284218904593338 for the NO3+NO2-N-Diss-Water (mg/L) target  \n",
      "The LASSO Architecture achieves a mean rmse of 5.649963633880724 with std dev 1.2213008800534568 for the NO3+NO2-N-Diss-Water (mg/L) target  \n"
     ]
    }
   ],
   "source": [
    "for architecture in SUPPORTED_ARCHITECTURES:\n",
    "\n",
    "    for target in targets:\n",
    "        mean_rmse, std_dev = get_mean_rmse_dev(nitrogen_target,experiments,architecture)\n",
    "\n",
    "    print(\"The {} Architecture achieves a mean rmse of {} with std dev {} for the NO3+NO2-N-Diss-Water (mg/L) target  \".format(architecture, mean_rmse, std_dev))"
   ]
  },
  {
   "cell_type": "code",
   "execution_count": 30,
   "metadata": {},
   "outputs": [
    {
     "data": {
      "text/plain": [
       "1.2213008800534568"
      ]
     },
     "execution_count": 30,
     "metadata": {},
     "output_type": "execute_result"
    }
   ],
   "source": [
    "std_dev"
   ]
  },
  {
   "cell_type": "code",
   "execution_count": 42,
   "metadata": {},
   "outputs": [
    {
     "data": {
      "image/png": "[encoded data removed]",
      "text/plain": [
       "<Figure size 640x480 with 1 Axes>"
      ]
     },
     "metadata": {},
     "output_type": "display_data"
    }
   ],
   "source": [
    "c = [1, 3, 2, 1]\n",
    "names = ['MLP '  , 'LASSO ' , 'RF ' , 'KNN ']\n",
    "values = [ 5.722230286745741  , 5.649963633880724 , 4.4252472866065755 ,  3.643197826186036]\n",
    "std_dev = [1.8392053760924199 ,1.2213008800534568, 1.4930975011199228, 1.4284218904593338 ]\n",
    "\n",
    "# fig, axs = plt.subplots(1, 1, figsize=(9, 3), sharey=True)\n",
    "\n",
    "plt.scatter(names, values,marker='x',c='black')\n",
    "\n",
    "plt.errorbar(names, values, yerr=std_dev, fmt=\"o\", c='black')\n",
    "\n",
    "plt.title('10 run average with 1 std. dev. error bar',fontsize=16)\n",
    "plt.suptitle('Comparison of architecture predictive performance for \\n the NO3+NO2-N-Diss-Water (mg/L) target',fontsize=24, y=1.1)\n",
    "\n",
    "plt.ylabel(\"RMSE \")\n",
    "# plt.xlabel(\"Architecture\")\n",
    "plt.show()\n"
   ]
  },
  {
   "cell_type": "code",
   "execution_count": null,
   "metadata": {},
   "outputs": [],
   "source": []
  }
 ],
 "metadata": {
  "kernelspec": {
   "display_name": "venv",
   "language": "python",
   "name": "python3"
  },
  "language_info": {
   "codemirror_mode": {
    "name": "ipython",
    "version": 3
   },
   "file_extension": ".py",
   "mimetype": "text/x-python",
   "name": "python",
   "nbconvert_exporter": "python",
   "pygments_lexer": "ipython3",
   "version": "3.10.7"
  },
  "orig_nbformat": 4
 },
 "nbformat": 4,
 "nbformat_minor": 2
}
